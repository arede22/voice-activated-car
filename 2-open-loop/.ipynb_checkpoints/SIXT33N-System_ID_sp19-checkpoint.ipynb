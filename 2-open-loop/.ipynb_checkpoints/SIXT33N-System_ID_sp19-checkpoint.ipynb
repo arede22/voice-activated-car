{
 "cells": [
  {
   "cell_type": "markdown",
   "metadata": {},
   "source": [
    "# SIXT33N\n",
    "## Phase 2: System Identification \n",
    "\n",
    "### EE 16B: Designing Information Devices and Systems II, Spring 2018"
   ]
  },
  {
   "cell_type": "markdown",
   "metadata": {},
   "source": [
    "**Name 1**:\n",
    "\n",
    "**Login**: ee16b-\n",
    "\n",
    "\n",
    "**Name 2**:\n",
    "\n",
    "**Login**: ee16b-"
   ]
  },
  {
   "cell_type": "markdown",
   "metadata": {},
   "source": [
    "## Table of Contents\n",
    "\n",
    "* [Introduction](#intro)\n",
    "* [Part 1: The SIXT33N Car](#part1)\n",
    "* [Part 2: Power, Sensor, and Actuator Circuits](#part2)\n",
    "* [Part 3: Sensor Verification](#part3)\n",
    "* [Part 4: Changing to Battery](#part4)\n",
    "* [Part 5: Open Loop Data Collection and Parameter Estimation](#part5)\n",
    "* [Part 6: Determining the Operating Point](#part6)"
   ]
  },
  {
   "cell_type": "markdown",
   "metadata": {},
   "source": [
    "<a id='intro'></a>\n",
    "## Introduction\n",
    "\n",
    "In this phase we will\n",
    "- build the SIXT33N chassis, sensors (wheel encoders), and actuators (motor drivers)\n",
    "- test the encoders to verify our sensing readings are accurate.\n",
    "- model the the car as an open loop system.\n",
    "- collect data and determine the parameters of our model using least-squares.\n",
    "\n",
    "**Remember to document all design choices you made and explain them in the project report.**"
   ]
  },
  {
   "cell_type": "markdown",
   "metadata": {},
   "source": [
    "<a id='part1'></a>\n",
    "## <span style=\"color:blue\">Part 1: The SIXT33N Car</span>\n",
    "\n",
    "### Materials\n",
    "- Chassis kit\n",
    "- 2 Photointerrupters\n",
    "- Soldering iron + solder"
   ]
  },
  {
   "cell_type": "markdown",
   "metadata": {},
   "source": [
    "Build the SIXT33N car from the kit. The instructions can be found in the ipython notebook called `SIXT33N_Car_Instructions`."
   ]
  },
  {
   "cell_type": "markdown",
   "metadata": {},
   "source": [
    "<a id='part2'></a>\n",
    "## <span style=\"color:blue\">Part 2: Power, Sensor, and Actuator Circuits</span>\n",
    "\n",
    "### Materials\n",
    "- 2 C2690A NPN BJTs (Bipolar Junction Transistor)\n",
    "- 2 IN4001 Diodes\n",
    "- 1 op-amp chip (2 op-amps)\n",
    "- 2 20k$\\Omega$ resistors\n",
    "- 2 10k$\\Omega$ resistors\n",
    "- 2 1.5k$\\Omega$ resistors\n",
    "- 2 10 $\\Omega$ resistors\n",
    "- 1 switch"
   ]
  },
  {
   "cell_type": "markdown",
   "metadata": {},
   "source": [
    "\n",
    "### Before we build anything on our circuit, let's recall the general layout of the breadboard from last week (Project Part 1: Microphone Front End).\n",
    "\n",
    "Our circuit will need two sources of power: \n",
    "1. ** 5V (Will come from the voltage regulator) **\n",
    "2. ** 3.3V (Will come from the launchpad) **\n",
    "\n",
    "** There is no negative voltage source. **\n",
    "\n",
    "Try to divide your breadboard into the following sections so that you have room for them all.\n",
    "- Use both of your (+) rails for 3.3V because most of the circuit will use 3.3V.\n",
    "- Plug your 5V source into a row close to your mic board.  Today, only the mic board uses the 5V supply.\n",
    "- Connect the ground of the 3.3V and 5V supplies, and connect the two (-) to create your ground rail.\n",
    "- The purple section is where you will build your front end.\n",
    "- The blue sections are set aside for your motor driver circuits later in the project\n",
    "\n",
    "<img style=\"width:700px\" src=\"images/circuit_outline_diagram_v2_with_voltage_reg_single_cap.png\">\n",
    "\n",
    "**KEEP YOUR CIRCUIT NEAT!** That goes without saying :)\n",
    "\n",
    "\n",
    "You do not want to run SIXT33N's motors off your laptop. Instead, **you will run the car off of two 9V batteries**. One of the batteries is used exclusively for the motors, and the other for powering the Launchpad and microphone front end. Using the same voltage source could potentially reset the Launchpad when the power draw spikes from the motors. The power distribution is shown in the diagram below. The front end circuit will use both the 5V regulator output and the Launchpad's 3.3V pin.\n",
    "\n",
    "**Note that all the grounds (including the grounds of the two batteries) are still connected.**\n",
    "\n",
    "<br/><br/>\n",
    "\n",
    "<center>\n",
    "<img width=\"700px\" src=\"images/proj-power.png\">\n",
    "</center>"
   ]
  },
  {
   "cell_type": "markdown",
   "metadata": {},
   "source": [
    "## Motor Drivers\n",
    "To be able to move, the car needs motor drivers. The DC motors we use are driven by a Pulse Width Modulated (PWM) signal, which the Launchpad will produce. A PWM signal is simply a square wave at a certain frequency but with variable duty cycle (percentage time the signal is high in a period). Since the motors need a lot of power, as mentioned before, we will connect the motors to their own separate 9V battery and an NPN transistor.\n",
    "\n",
    "The <a href=\"https://www.allaboutcircuits.com/textbook/semiconductors/chpt-4/bipolar-junction-transistors-bjt/\">NPN bipolar junction transistor</a> behaves a little different from the NMOS you are familiar with, but both transistors can still be considered switch-like. An NMOS uses voltage to control whether the switch is off or on, whereas a BJT uses current to control the switch. However, BJTs burned out by running too much current through them, so a $1.5\\mathrm{k}\\Omega$ resistor is used to limit the current. The Launchpad generates a low-voltage, low-power PWM signal, which switches the transistor on and off. This allows us to feed the motors a high-power PWM signal without having to use a microcontroller with the capability of outputting sufficient power to power the motors directly.\n",
    "\n",
    "### Your tasks:\n",
    "\n",
    "##### **1. Construct the circuit below for each wheel using the <a href=\"https://www.fairchildsemi.com/datasheets/KS/KSC2690A.pdf\">C2690A</a> NPN BJT on the breadboard**.\n",
    "\n",
    "   - <img width=\"250px\" src=\"images/motor-drive-with-switch.jpg\">\n",
    "    - **Use a different breadboard row for the 9V for the motors than the 9V for the voltage regulator.**\n",
    "    - The motor is reversible so connect it any way for now. If it turns out to go backwards later, just reverse the two terminals of the motor.\n",
    "    - The pin diagram of the BJT is reproduced below. Note that the diagram has the markings in the black plastic part facing up. <span style=\"color:red\">**Make sure to match the Base, Emitter, and Collector properly to the schematic.**</span>\n",
    "    - <span style=\"color:red\">**Check your kit for diodes and BJTs before getting any from the TA desk.**</span>\n",
    "    - <img width=\"250px\" src=\"images/proj-bjt.png\">\n",
    "    - A <a href=\"https://www.allaboutcircuits.com/textbook/semiconductors/chpt-3/introduction-to-diodes-and-rectifiers/\">diode</a> is a component that only conducts current one way. This diode is needed because of the inductive characteristics of the motor. If the motor is on and we turn it off, the inductive behavior of the motor maintains the current and we need a way to dissipate it. The diagram for the diode is shown below. **Note that the diode has a direction** - be careful which terminal is attached to the 9V power supply.\n",
    "    - <img width=\"300px\" src=\"images/proj-diode.png\">\n",
    "    \n",
    "    \n",
    "    \n",
    "##### **2. Add a switch between 9V and the motor drivers.** You only need **ONE** switch!\n",
    "   - Place the switch somewhere fairly central (wrt the long side) on your breadboard.\n",
    "    - Connect the 9V to one terminal and connect **BOTH** your motor controller circuits' 9V nodes to another. \n",
    "    - **Sanity check:** the middle pin of your switch should be connected to something.\n",
    "         \n",
    "         \n",
    "         \n",
    "##### **3. Remove the 9V power supply from the 5V regulator (if it's connected), and move it to the switch to test the motors, AND set a current limit of 600mA.**\n",
    "   - We have limited rechargeable 9V batteries, so use the power supply when working at your lab station for long periods of time.\n",
    "    - The motors can each draw 200-300mA.\n",
    "    - If your motors draw the maximum current, increase the limit to 800mA.\n",
    "    \n",
    "    \n",
    "##### **4. ** Test the motor drivers. For each motor driver:\n",
    "   - Connect the node of the resistor labeled `MSP430 output pin` in the schematic to the function generator.\n",
    "    - Set the function generator to output a **1kHz square wave with 3Vpp, 1.65V offset, 80% duty cycle**.\n",
    "    - Changing the duty cycle should control the speed of the wheels.\n",
    "    - Remember to **set the output of the function generator to high impedance**.\n",
    "    \n",
    "    \n",
    "##### **5. **<span style=\"color:red\">**Make sure that both motors drive as expected. They might not go at the same speed - our control loop will fix that.**</span>\n",
    "\n",
    "##### **6. Once the motor circuit is verified,** Leave the resistor terminals that are supposed to be driven by the Launchpad pins connected to ground. This keeps the motors off."
   ]
  },
  {
   "cell_type": "markdown",
   "metadata": {},
   "source": [
    "         \n",
    "##### **4. Remove the 9V power supply from the 5V regulator (if it's connected), and move it to the switch to test the motors, AND set a current limit of 600mA.**\n",
    "   - We have limited rechargeable 9V batteries, so use the power supply when working at your lab station for long periods of time.\n",
    "    - The motors can each draw 200-300mA.\n",
    "    - If your motors draw the maximum current, increase the limit to 800mA.\n",
    "    \n",
    "    \n",
    "##### **5. ** Test the motor drivers. For each motor driver:\n",
    "   - Connect the node of the resistor labeled `MSP430 output pin` in the schematic to the function generator.\n",
    "    - Set the function generator to output a **1kHz square wave with 3Vpp, 1.65V offset, 80% duty cycle**.\n",
    "    - Changing the duty cycle should control the speed of the wheels.\n",
    "    - Remember to **set the output of the function generator to high impedance**.\n",
    "    \n",
    "    \n",
    "##### **6. **<span style=\"color:red\">**Make sure that both motors drive as expected. They might not go at the same speed - our control loop will fix that.**</span>\n"
   ]
  },
  {
   "cell_type": "markdown",
   "metadata": {},
   "source": [
    "## Wheel Encoders\n",
    "\n",
    "### Your tasks: \n",
    "\n",
    "1. Put the photointerrupter modules in their slots as shown below.\n",
    "<br/><br/>\n",
    "<center>\n",
    "<img width=\"400px\" src=\"images/proj-car-encoder1.jpg\">\n",
    "</center>\n",
    "\n",
    "2. Connect the encoders to the Launchpad as follows: \n",
    "    * Use 4 female-male jumper wires per encoder, three for making connections from the encoder to the breadboard, and one for making a connection between the breadboard and MSP. \n",
    "    * Connect the 'G' (ground) pins to ground on your breadboard, ideally closely to the ground of your Launchpad battery.\n",
    "    * Connect the 'V' (voltage) pins to the 3.3V pins of your breadboard, ideally closely to the 3.3V jumper coming from the Launchpad.\n",
    "    * Connect the 'S' (signal) pins to the breadboard.\n",
    "    * Then for each encoder, connect the row where the 'S' pin goes into with the appropriate MSP pin.\n",
    "        - This pin is `P6.1` for the left encoder, and pin `P6.2` for the right encoder.\n",
    "    \n",
    "You should **twist all three wires from the encoder to the breadboard together** - this will help shield the signal wire from external noise sources."
   ]
  },
  {
   "cell_type": "markdown",
   "metadata": {},
   "source": [
    "<a id='part3'></a>\n",
    "## <span style=\"color:blue\">Part 3: Sensor Verification</span>\n",
    "\n",
    "### Materials\n",
    "- Launchpad + USB cable\n",
    "\n",
    "In general, there are two major types of error in sensing the car's trajectory. The first is noise in the sensor signals. The second is from mechanical differences between the two sides of the car.\n",
    "\n",
    "In this section we will test for and fix the first type of noise. The mechanical type primarily affects performance over long distances, so we can compensate for it after implementing closed-loop control.\n",
    "\n",
    "### Your Tasks: \n",
    "1. Connect the LaunchPad's 3.3V pin to the 3.3V rail of your breadboard.\n",
    "2. Disconnect the 5V pin of the Launchpad from the 5V regulator (if it's connected).\n",
    "3. **Connect the left motor's BJT to `P2.0` and the right motor's BJT to `P1.5`.**\n",
    "4. Connect the USB.\n",
    "    - It's ok to momentarily connect both at the same time so you don't lose data after a test on the ground.\n",
    "5. **If your encoders are powered properly, the LED's on them should blink when you pass something through the encoders.**\n",
    "- Remove the encoder wheels if they are on the car, and upload **`encoder_test_0_ticks.ino`** to the Launchpad.\n",
    "- Open the serial monitor.\n",
    "- **Set the baud rate to `38,400`**\n",
    "- Press reset.\n",
    "- Follow the instructions on the serial monitor.\n",
    "    - **Your car wheels are going to move.** Make sure that the car is suspended above the desk. Don't let your car jump off the bench.\n",
    "    - Switch 1, P2.1 is the bottom left button of the LaunchPad.\n",
    "    - If your encoders are functioning properly, the serial monitor should print \"Success\" after each phase, and display all 0's (or at least no more than a few ticks) for the ticks per phase. Note that if your car is mis-wired, this could be a false negative.\n",
    "11. Attach the encoder disk as shown below.\n",
    "    - Make sure to remove the paper sticker (yes, it does come off) before you attach it. =\n",
    "    - If some of the holes in the encoder were not fully cut out, use the flat end of the screwdriver (it's reversible!) to push the material out.\n",
    "12. Re-run the tests. If your car is connected correctly, **the tests should show several hundred encoder ticks**, ruling out a false negative.\n",
    "\n",
    "<img width=\"400px\" src=\"images/proj-car-encoder2.jpg\">"
   ]
  },
  {
   "cell_type": "markdown",
   "metadata": {},
   "source": [
    "<a id='part4'></a>\n",
    "## <span style=\"color:blue\">Part 4: Changing to Battery</span>\n",
    "\n",
    "### Materials\n",
    "- 2 9V rechargeable batteries + battery leads (knotted)\n",
    "\n",
    "Now we want to use 9V batteries to run the car on the ground. \n",
    "\n",
    "***If you are testing things at the bench, use the benchtop power supply.*** The battery does not contain a lot of energy and the motors take a lot of power. If you leave it running it will only last a little over an hour. If the voltage of the battery drops below 7.8V, ask for a new one from your GSI.\n",
    "\n",
    "### Your Tasks:\n",
    "1. Take the power supply off the motor drivers.\n",
    "  - **Never leave both the power supply and the battery connected at the same time. Don't do it.** Try to minimize the time they are both connected when switching power before transferring data. If you leave both connected for too long, the computer will not recognize your Launchpad due to power overload at the COM port. \n",
    "- Connect the battery leads to the switch and the voltage regulator.\n",
    "    - Connect the 5V of the LaunchPad to the voltage regulator.\n",
    "    - The grounds of the 9V battery leads should go to the ground rail of the circuit.\n",
    "- Knot your battery leads as shown in the image below.\n",
    "    - This will drastically decrease the chance that the leads will accidentally short and kill your battery.\n",
    "\n",
    "<img width=\"200px\" src=\"images/proj-batt-lead.jpg\">\n",
    "\n",
    "**4. <span style=\"color:red\">Use your multimeter again to check that the output of your regulator is still 5V and nothing was shorted.</span>**\n",
    "\n"
   ]
  },
  {
   "cell_type": "markdown",
   "metadata": {},
   "source": [
    "<a id='part5'></a>\n",
    "## <span style=\"color:blue\">Part 5: Open Loop Data Collection and Parameter Estimation</span>\n"
   ]
  },
  {
   "cell_type": "markdown",
   "metadata": {},
   "source": [
    "Before trying to control SIXT33N, we will first determine the system operating point: since your motors are not identical, we need to find an operating velocity that both motors can reach. We will assume that velocity varies approximately linearly with applied voltage, so we will collect data across a range of applied voltages and then perform a least-squares linear regression on a subset of the data (located around your operating point). You will do this separately for each wheel. By doing this, we are effectively forming a simplified model of your car (you will use a more detailed model to design your control scheme, but this is enough for us to get the data we need)."
   ]
  },
  {
   "cell_type": "markdown",
   "metadata": {},
   "source": [
    "Now, you will collect the data by uploading the sketch **`dynamics_data.ino`**. Glance through the sketch - it records the position of each wheel while varying the input signal $u[k]$ linearly from HIGH_PWM to LOW_PWM and back up. The sampling period is $T_s = 500\\mathrm{ms}$. A long sampling period is used to minimize error due to quantization, the rounding error from measuring only integer encoder ticks.\n",
    "\n",
    "**Important: For this first test, make sure that you are using the first set of 5 parameters in code block `SID1`** (abbreviated from System ID 1). These parameters will sweep through the whole range of PWM values, from maximum to minimum and back to maximum, while collecting only 1 sample per PWM. This means **the car will stop for a short time in the middle of the test.**\n",
    "\n",
    "### About DATA collection:\n",
    "1. We will being using **`dynamics_data.ino`** to collect data for our car and read it to the serial monitor.\n",
    "2. Upon being uploaded to the MSP, **`dynamics_data.ino`.** does either one of two things, depending on whether the **`WRITE`.** variable located at the top of the code is **`1`.** or **`0`.**. \n",
    "    - If **`WRITE == 1`.** - The car upon having the leftmost bottom button pressed will run and collect data, then write it into permanent memory, which will survive between resets and power supply removal. The collected data will be overwritten if data collection is run again.\n",
    "    - If **`WRITE == 0`.** - The car upon having its leftmost bottom button pressed will read data collected from its last run onto the Serial Monitor\n",
    "\n",
    "Here are somethings to keep in mind:\n",
    "\n",
    "In general: \n",
    "\n",
    "- The leftmost button is unresponsive at times, so you may have to press it multiple times. You will know you have succeeded in making the MSP bend to your will if the LEDs blink.\n",
    "- If things are still unresponsive, press the reset button.\n",
    "- Don't connect both 5V from the voltage regulator and the USB from the computer to the MSP at the same time. This tends to fry the launchpad.\n",
    "\n",
    "If running the car and collecting data:\n",
    "\n",
    "- Remember if that the MSP needs power from 5 volts if not connected to the Computer\n",
    "- Look for a large space to run your car \n",
    "- Your car will probably not go straight \n",
    "\n",
    "If reading the data from the MSP:\n",
    "\n",
    "- The data is printed in lines as comma separated 3-tuples. \n",
    "- Copy and paste, ONLY these 3-tuples, nothing else.\n",
    "\n",
    "### 5.1. Your Tasks:\n",
    "\n",
    "Once you've copied data from the serial monitor, paste it into a text file called **`data_coarse.txt`.**\n",
    "\n",
    " "
   ]
  },
  {
   "cell_type": "markdown",
   "metadata": {},
   "source": [
    "The example plot below shows an example of extreme differences between the two wheels. Sometimes your wheels are different\n",
    "\n",
    "<img width=\"400px\" src=\"images/example_coarse_data.png\">"
   ]
  },
  {
   "cell_type": "code",
   "execution_count": 2,
   "metadata": {},
   "outputs": [
    {
     "ename": "ModuleNotFoundError",
     "evalue": "No module named 'numpy'",
     "output_type": "error",
     "traceback": [
      "\u001b[1;31m---------------------------------------------------------------------------\u001b[0m",
      "\u001b[1;31mModuleNotFoundError\u001b[0m                       Traceback (most recent call last)",
      "\u001b[1;32m<ipython-input-2-3f4764b47b06>\u001b[0m in \u001b[0;36m<module>\u001b[1;34m\u001b[0m\n\u001b[1;32m----> 1\u001b[1;33m \u001b[1;32mimport\u001b[0m \u001b[0mnumpy\u001b[0m \u001b[1;32mas\u001b[0m \u001b[0mnp\u001b[0m\u001b[1;33m\u001b[0m\u001b[1;33m\u001b[0m\u001b[0m\n\u001b[0m\u001b[0;32m      2\u001b[0m \u001b[1;32mimport\u001b[0m \u001b[0mmatplotlib\u001b[0m\u001b[1;33m.\u001b[0m\u001b[0mpyplot\u001b[0m \u001b[1;32mas\u001b[0m \u001b[0mplt\u001b[0m\u001b[1;33m\u001b[0m\u001b[1;33m\u001b[0m\u001b[0m\n\u001b[0;32m      3\u001b[0m \u001b[0mget_ipython\u001b[0m\u001b[1;33m(\u001b[0m\u001b[1;33m)\u001b[0m\u001b[1;33m.\u001b[0m\u001b[0mrun_line_magic\u001b[0m\u001b[1;33m(\u001b[0m\u001b[1;34m'matplotlib'\u001b[0m\u001b[1;33m,\u001b[0m \u001b[1;34m'inline'\u001b[0m\u001b[1;33m)\u001b[0m\u001b[1;33m\u001b[0m\u001b[1;33m\u001b[0m\u001b[0m\n",
      "\u001b[1;31mModuleNotFoundError\u001b[0m: No module named 'numpy'"
     ]
    }
   ],
   "source": [
    "import numpy as np\n",
    "import matplotlib.pyplot as plt\n",
    "%matplotlib inline"
   ]
  },
  {
   "cell_type": "code",
   "execution_count": 3,
   "metadata": {},
   "outputs": [
    {
     "ename": "NameError",
     "evalue": "name 'np' is not defined",
     "output_type": "error",
     "traceback": [
      "\u001b[1;31m---------------------------------------------------------------------------\u001b[0m",
      "\u001b[1;31mNameError\u001b[0m                                 Traceback (most recent call last)",
      "\u001b[1;32m<ipython-input-3-849b001e19b7>\u001b[0m in \u001b[0;36m<module>\u001b[1;34m\u001b[0m\n\u001b[0;32m      1\u001b[0m \u001b[1;32mwith\u001b[0m \u001b[0mopen\u001b[0m\u001b[1;33m(\u001b[0m\u001b[1;34m'data_coarse.txt'\u001b[0m\u001b[1;33m,\u001b[0m \u001b[1;34m'r'\u001b[0m\u001b[1;33m)\u001b[0m \u001b[1;32mas\u001b[0m \u001b[0mfile\u001b[0m\u001b[1;33m:\u001b[0m\u001b[1;33m\u001b[0m\u001b[1;33m\u001b[0m\u001b[0m\n\u001b[1;32m----> 2\u001b[1;33m     \u001b[0mdata\u001b[0m \u001b[1;33m=\u001b[0m \u001b[0mnp\u001b[0m\u001b[1;33m.\u001b[0m\u001b[0marray\u001b[0m\u001b[1;33m(\u001b[0m\u001b[1;33m[\u001b[0m\u001b[1;33m[\u001b[0m\u001b[0mint\u001b[0m\u001b[1;33m(\u001b[0m\u001b[0mnum\u001b[0m\u001b[1;33m)\u001b[0m \u001b[1;32mfor\u001b[0m \u001b[0mnum\u001b[0m \u001b[1;32min\u001b[0m \u001b[0mline\u001b[0m\u001b[1;33m.\u001b[0m\u001b[0mstrip\u001b[0m\u001b[1;33m(\u001b[0m\u001b[1;33m)\u001b[0m\u001b[1;33m.\u001b[0m\u001b[0msplit\u001b[0m\u001b[1;33m(\u001b[0m\u001b[1;34m','\u001b[0m\u001b[1;33m)\u001b[0m\u001b[1;33m]\u001b[0m \u001b[1;32mfor\u001b[0m \u001b[0mline\u001b[0m \u001b[1;32min\u001b[0m \u001b[0mfile\u001b[0m\u001b[1;33m.\u001b[0m\u001b[0mreadlines\u001b[0m\u001b[1;33m(\u001b[0m\u001b[1;33m)\u001b[0m\u001b[1;33m]\u001b[0m\u001b[1;33m)\u001b[0m\u001b[1;33m\u001b[0m\u001b[1;33m\u001b[0m\u001b[0m\n\u001b[0m\u001b[0;32m      3\u001b[0m \u001b[1;33m\u001b[0m\u001b[0m\n\u001b[0;32m      4\u001b[0m \u001b[1;31m# compute velocity from distances\u001b[0m\u001b[1;33m\u001b[0m\u001b[1;33m\u001b[0m\u001b[1;33m\u001b[0m\u001b[0m\n\u001b[0;32m      5\u001b[0m \u001b[0mvleft\u001b[0m  \u001b[1;33m=\u001b[0m \u001b[0mdata\u001b[0m\u001b[1;33m[\u001b[0m\u001b[1;33m:\u001b[0m\u001b[1;33m,\u001b[0m \u001b[1;36m1\u001b[0m\u001b[1;33m]\u001b[0m\u001b[1;33m\u001b[0m\u001b[1;33m\u001b[0m\u001b[0m\n",
      "\u001b[1;31mNameError\u001b[0m: name 'np' is not defined"
     ]
    }
   ],
   "source": [
    "with open('data_coarse.txt', 'r') as file:\n",
    "    data = np.array([[int(num) for num in line.strip().split(',')] for line in file.readlines()])\n",
    "\n",
    "# compute velocity from distances\n",
    "vleft  = data[:, 1]\n",
    "vright = data[:, 2]\n",
    "\n",
    "\n",
    "u = data[:, 0].reshape((-1, 1)) # duty cycle\n",
    "left_des, left_asc = np.array_split(vleft, 2)\n",
    "\n",
    "right_des, right_asc = np.array_split(vright, 2)\n",
    "\n",
    "u_des, u_asc = np.array_split(u, 2)\n",
    "\n",
    "plt.plot(u_des, left_des, 'b-',  u_des, right_des, 'y-')\n",
    "plt.plot(u_asc, left_asc, 'b-o',  u_asc, right_asc, 'y-^')\n",
    "plt.xlabel(\"u (input via PWM)\")\n",
    "plt.ylabel(\"Velocity of Wheels\")\n",
    "labels = (\"left (descending)\", \"right (descending)\",\n",
    "          \"left (ascending)\" , \"right (ascending)\")\n",
    "plt.legend(labels, loc=0)\n",
    "plt.show()"
   ]
  },
  {
   "cell_type": "markdown",
   "metadata": {},
   "source": [
    "Now we'll collect data appropriate for least-squares to find a linear approximation for the behavior of your motors. In normal operation, the car only has to run within a small range of velocities, so we collect more samples at each PWM, over a smaller PWM range. \n",
    "\n",
    "### 5.2. Your Tasks:\n",
    "1. **Comment out the first set of 5 parameters and uncomment the second set in code block `SID1`.**\n",
    "2. **Set *LOW_PWM* and *HIGH_PWM*** so that the chosen PWM range is (more or less) linear on your coarse plot from the previous step.\n",
    "3. If your car makes *very* tight circles (ie: radius less than 1 ft), talk to your GSI!\n",
    "4. **Copy the numerical data between two \"Start\" lines to a text file called `data_fine.txt`**, like you did for `data_coarse`.\n",
    "5. Perform least-squares regression on your data as outlined in the sections below entitled **Least-Squares Regression** and **Evaluate Your Fit**."
   ]
  },
  {
   "cell_type": "code",
   "execution_count": 25,
   "metadata": {},
   "outputs": [
    {
     "data": {
      "image/png": "[encoded data removed]",
      "text/plain": [
       "<matplotlib.figure.Figure at 0x1125b64e0>"
      ]
     },
     "metadata": {},
     "output_type": "display_data"
    }
   ],
   "source": [
    "with open('data_fine.txt', 'r') as file:\n",
    "    data = np.array([[int(num) for num in line.strip().split(',')] for line in file.readlines()])\n",
    "    \n",
    "# compute velocity from distances\n",
    "vleft  = data[:, 1]\n",
    "vright = data[:, 2]\n",
    "\n",
    "u = data[:, 0].reshape((-1, 1)) # duty cycle\n",
    "\n",
    "plt.plot(u, vleft, 'bo',  u, vright, 'yo')\n",
    "plt.xlabel(\"u (input via PWM)\")\n",
    "plt.ylabel(\"Velocity of Wheels\")\n",
    "plt.legend((\"left\", \"right\"), loc=0)\n",
    "plt.show()"
   ]
  },
  {
   "cell_type": "markdown",
   "metadata": {},
   "source": [
    "### 5.2.1. Least-Squares Regression\n",
    "Now that we have some data, we can try performing least-squares regression.\n",
    "\n",
    "\n",
    "1. Write a function that takes the data as parameters, performs least squares, and extracts the parameters. The function `np.linalg.lstsq` will be helpful here.\n",
    "2. Call the function once for each wheel.\n",
    "3. Record the values of $\\theta$ and $\\beta$ for each wheel."
   ]
  },
  {
   "cell_type": "code",
   "execution_count": 26,
   "metadata": {},
   "outputs": [
    {
     "name": "stdout",
     "output_type": "stream",
     "text": [
      "float theta_left = 0.4418;\n",
      "float theta_right = 0.4108;\n",
      "float beta_left = 23.8;\n",
      "float beta_right = 24.72;\n"
     ]
    }
   ],
   "source": [
    "# YOUR CODE HERE\n",
    "# Write a function that formulates and performs least squares\n",
    "# and returns theta and beta for one wheel\n",
    "def identify_parameters(u, v):\n",
    "    # Returns (theta, beta) for given (u, v)\n",
    "\n",
    "# extract parameters, call your function here\n",
    "theta_left, beta_left = identify_parameters(u, vleft) # 0, 0\n",
    "theta_right, beta_right = identify_parameters(u, vright) # 0, 0\n",
    "\n",
    "print(\"float theta_left = {:.4g};\".format(theta_left))\n",
    "print(\"float theta_right = {:.4g};\".format(theta_right))\n",
    "print(\"float beta_left = {:.4g};\".format(beta_left))\n",
    "print(\"float beta_right = {:.4g};\".format(beta_right))"
   ]
  },
  {
   "cell_type": "code",
   "execution_count": 27,
   "metadata": {
    "scrolled": true
   },
   "outputs": [
    {
     "data": {
      "text/plain": [
       "<matplotlib.legend.Legend at 0x1128526a0>"
      ]
     },
     "execution_count": 27,
     "metadata": {},
     "output_type": "execute_result"
    },
    {
     "data": {
      "image/png": "[encoded data removed]",
      "text/plain": [
       "<matplotlib.figure.Figure at 0x1122dee10>"
      ]
     },
     "metadata": {},
     "output_type": "display_data"
    }
   ],
   "source": [
    "# plot results of least squares fit \n",
    "u = u.reshape(-1)\n",
    "vleft_LS = theta_left*u-beta_left\n",
    "vright_LS = theta_right*u-beta_right\n",
    "plt.plot(u, vleft, 'bo',  u, vright, 'yo', u, vleft_LS, 'b-', u, vright_LS, 'y-')\n",
    "plt.xlabel(\"u (input via PWM)\")\n",
    "plt.ylabel(\"Velocity of Wheels\")\n",
    "plt.legend((\"left\", \"right\"), loc=0)"
   ]
  },
  {
   "cell_type": "markdown",
   "metadata": {},
   "source": [
    "### 5.2.2. Evaluate Your Fit\n",
    "\n",
    "1. **Inspect the linearity of this plot and the coarse data plot.**\n",
    "2. **If you think a different range of PWM may be more linear, change HIGH_PWM and LOW_PWM in the .ino file.**\n",
    "    - Be careful so your car does not run too close to the minimum or maximum PWM (0 and 255).\n",
    "    - If our control scheme saturates (e.g. maxes at 255) an input, the car is much harder to control.\n",
    "3. Run the simulation below."
   ]
  },
  {
   "cell_type": "markdown",
   "metadata": {},
   "source": [
    "To test that we have estimated the parameters accurately, we will simulate the model using the parameters we have found. When we compare the simulated data with the collected data, we expect them to match up pretty well. "
   ]
  },
  {
   "cell_type": "code",
   "execution_count": 1,
   "metadata": {},
   "outputs": [
    {
     "ename": "NameError",
     "evalue": "name 'u' is not defined",
     "output_type": "error",
     "traceback": [
      "\u001b[1;31m---------------------------------------------------------------------------\u001b[0m",
      "\u001b[1;31mNameError\u001b[0m                                 Traceback (most recent call last)",
      "\u001b[1;32m<ipython-input-1-b1ff3e72a009>\u001b[0m in \u001b[0;36m<module>\u001b[1;34m\u001b[0m\n\u001b[0;32m      8\u001b[0m \u001b[1;33m\u001b[0m\u001b[0m\n\u001b[0;32m      9\u001b[0m \u001b[1;31m# plot simulated trajectories\u001b[0m\u001b[1;33m\u001b[0m\u001b[1;33m\u001b[0m\u001b[1;33m\u001b[0m\u001b[0m\n\u001b[1;32m---> 10\u001b[1;33m \u001b[0mdleft_simulated\u001b[0m  \u001b[1;33m=\u001b[0m \u001b[0msim\u001b[0m\u001b[1;33m(\u001b[0m\u001b[1;36m0\u001b[0m\u001b[1;33m,\u001b[0m \u001b[0mu\u001b[0m\u001b[1;33m,\u001b[0m \u001b[0mtheta_left\u001b[0m\u001b[1;33m,\u001b[0m \u001b[0mbeta_left\u001b[0m\u001b[1;33m)\u001b[0m\u001b[1;33m\u001b[0m\u001b[1;33m\u001b[0m\u001b[0m\n\u001b[0m\u001b[0;32m     11\u001b[0m \u001b[0mdright_simulated\u001b[0m \u001b[1;33m=\u001b[0m \u001b[0msim\u001b[0m\u001b[1;33m(\u001b[0m\u001b[1;36m0\u001b[0m\u001b[1;33m,\u001b[0m \u001b[0mu\u001b[0m\u001b[1;33m,\u001b[0m \u001b[0mtheta_right\u001b[0m\u001b[1;33m,\u001b[0m \u001b[0mbeta_right\u001b[0m\u001b[1;33m)\u001b[0m\u001b[1;33m\u001b[0m\u001b[1;33m\u001b[0m\u001b[0m\n\u001b[0;32m     12\u001b[0m plt.plot(dleft, 'b.', \n",
      "\u001b[1;31mNameError\u001b[0m: name 'u' is not defined"
     ]
    }
   ],
   "source": [
    "# model for simulation \n",
    "def sim(d0, u, theta, beta):\n",
    "    d = np.zeros(len(u)+1)\n",
    "    d[0] = d0\n",
    "    for t in range(len(u)):\n",
    "        d[t+1] = d[t] + theta*u[t] - beta\n",
    "    return d\n",
    "def get_distances_from_velocities(v):\n",
    "    d = np.zeros(len(u) + 1)\n",
    "    d[0] = 0\n",
    "    for t in range(len(u)):\n",
    "        d[t+1] = d[t] + v[t] \n",
    "    return d\n",
    "        \n",
    "# plot simulated trajectories \n",
    "\n",
    "dleft = get_distances_from_velocities(vleft)\n",
    "dright = get_distances_from_velocities(vright)\n",
    "\n",
    "dleft_simulated  = sim(0, u, theta_left, beta_left)\n",
    "dright_simulated = sim(0, u, theta_right, beta_right)\n",
    "plt.plot(dleft, 'b.', \n",
    "         dright, 'y.',\n",
    "         dleft_simulated, 'b-', \n",
    "         dright_simulated, 'y-',\n",
    "        )\n",
    "plt.xlabel(\"time\")\n",
    "plt.ylabel(\"distance\")\n",
    "plt.legend((\"left (data)\", \"right (data)\", \"left (fit)\", \"right (fit)\"), loc='upper left')"
   ]
  },
  {
   "cell_type": "markdown",
   "metadata": {},
   "source": [
    "<a id='part6'></a>\n",
    "## <span style=\"color:blue\">Part 6: Determining the Operating Point</span>"
   ]
  },
  {
   "cell_type": "markdown",
   "metadata": {},
   "source": [
    "In general, each wheel may have a different range of velocities, illustrated here.\n",
    "\n",
    "<img src=\"./images/partial_overlap_lsq.png\">\n"
   ]
  },
  {
   "cell_type": "markdown",
   "metadata": {},
   "source": [
    "In order to drive straight, the car must be operating at a velocity achievable by both wheels. A good choice of target velocity is the midpoint of the overlapping range of velocity. The below cell will calculate this."
   ]
  },
  {
   "cell_type": "code",
   "execution_count": 28,
   "metadata": {},
   "outputs": [
    {
     "name": "stdout",
     "output_type": "stream",
     "text": [
      "Velocity range = [-1.7, 36.9]\n",
      "\n",
      "Operating point:\n",
      "float v_star = 17.6;\n"
     ]
    },
    {
     "data": {
      "text/plain": [
       "<matplotlib.legend.Legend at 0x112b5a438>"
      ]
     },
     "execution_count": 28,
     "metadata": {},
     "output_type": "execute_result"
    },
    {
     "data": {
      "image/png": "[encoded data removed]",
      "text/plain": [
       "<matplotlib.figure.Figure at 0x10ee74518>"
      ]
     },
     "metadata": {},
     "output_type": "display_data"
    }
   ],
   "source": [
    "min_vel = max(min(vleft_LS), min(vright_LS))\n",
    "max_vel = min(max(vleft_LS), max(vright_LS))\n",
    "print('Velocity range = [{:0.1f}, {:0.1f}]'.format(min_vel, max_vel))\n",
    "midpoint = (min_vel+max_vel)/2\n",
    "print('\\nOperating point:\\nfloat v_star = {:.1f};'.format(midpoint))\n",
    "\n",
    "u = u.reshape(-1)\n",
    "vleft_LS = theta_left*u-beta_left\n",
    "vright_LS = theta_right*u-beta_right\n",
    "plt.plot(u, vleft_LS, 'b-', u, vright_LS, 'y-')\n",
    "for i in (min_vel, max_vel):\n",
    "    plt.plot(u, 0*u + i, 'g-')\n",
    "plt.plot(u, vleft, 'bo',  u, vright, 'yo')\n",
    "plt.xlabel(\"u (input via PWM)\")\n",
    "plt.ylabel(\"Velocity of Wheels\")\n",
    "plt.legend((\"left\", \"right\", \"overlap\"), loc=0)"
   ]
  },
  {
   "cell_type": "markdown",
   "metadata": {},
   "source": [
    "<img width='30px' align='left' src=\"http://inst.eecs.berkeley.edu/~ee16b/sp16/lab_pics/check.png\">\n",
    "<br/>\n",
    "## <span style=\"color:green\">CHECKOFF</span>\n",
    " <span style=\"color:green\">**Show your GSI your data collection and parameters.** Your GSI will double check your parameters.</span>\n",
    " \n",
    " <span style=\"color:green\">**Show your GSI that you have submitted the lab assignment on Gradescope and have credit for all the labs you've completed.**</span>\n",
    " \n",
    " ## <span style=\"color:red\">SAVE ALL YOUR DATA!!</span>"
   ]
  },
  {
   "cell_type": "code",
   "execution_count": null,
   "metadata": {
    "collapsed": true
   },
   "outputs": [],
   "source": []
  }
 ],
 "metadata": {
  "anaconda-cloud": {},
  "kernelspec": {
   "display_name": "Python 3",
   "language": "python",
   "name": "python3"
  },
  "language_info": {
   "codemirror_mode": {
    "name": "ipython",
    "version": 3
   },
   "file_extension": ".py",
   "mimetype": "text/x-python",
   "name": "python",
   "nbconvert_exporter": "python",
   "pygments_lexer": "ipython3",
   "version": "3.7.0"
  }
 },
 "nbformat": 4,
 "nbformat_minor": 1
}
